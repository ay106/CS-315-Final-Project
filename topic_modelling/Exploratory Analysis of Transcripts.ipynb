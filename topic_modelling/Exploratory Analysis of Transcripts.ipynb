{
 "cells": [
  {
   "cell_type": "markdown",
   "id": "91f8feab-05ae-4483-8590-88bc7c593a29",
   "metadata": {},
   "source": [
    "## Exploratory Analysis of Transcripts"
   ]
  },
  {
   "cell_type": "markdown",
   "id": "89ea31e0-bd9c-4498-aa05-42178378bccb",
   "metadata": {},
   "source": [
    "<b> Author:</b> Miraya Gupta \\\n",
    "<b> Date: </b> 04/05"
   ]
  },
  {
   "cell_type": "code",
   "execution_count": 5,
   "id": "a9a7c6c7-80c9-4240-aa22-63cbe8321514",
   "metadata": {},
   "outputs": [],
   "source": [
    "import pandas as pd\n",
    "import csv\n",
    "import json\n",
    "import numpy as np\n",
    "import os\n",
    "#from sklearn.feature_extraction.text import CountVectorizer"
   ]
  },
  {
   "cell_type": "markdown",
   "id": "02e16f2a-fc6b-43e2-aae5-095e7c81ff44",
   "metadata": {},
   "source": [
    "# Load Data"
   ]
  },
  {
   "cell_type": "code",
   "execution_count": 6,
   "id": "54dfcf9e-a16e-42d8-bb49-78b746b97f69",
   "metadata": {},
   "outputs": [],
   "source": [
    "def get_df_for_year(year):\n",
    "    '''\n",
    "    Take in the year and return a df with data from that year\n",
    "    '''\n",
    "    directory = 'data'\n",
    "    filename = f'final_result_{year}.csv'\n",
    "    path = os.path.join(directory, filename)\n",
    "    df = pd.read_csv(path)\n",
    "    return df"
   ]
  },
  {
   "cell_type": "code",
   "execution_count": 7,
   "id": "9516df72-19e8-4f32-b341-6a35ad03a743",
   "metadata": {},
   "outputs": [],
   "source": [
    "#calling function to get csv for each year\n",
    "all_dfs = []\n",
    "for yr in ['2020', '2021', '2022', '2023', '2024']:\n",
    "    df = get_df_for_year(yr)\n",
    "    all_dfs.append(df)"
   ]
  },
  {
   "cell_type": "code",
   "execution_count": 8,
   "id": "e87e0382-0c54-4c74-98ac-a54e4dbcab3c",
   "metadata": {},
   "outputs": [
    {
     "data": {
      "text/plain": [
       "Index(['Unnamed: 0', 'video_id', 'video_timestamp', 'video_duration',\n",
       "       'video_locationcreated', 'suggested_words', 'video_diggcount',\n",
       "       'video_sharecount', 'video_commentcount', 'video_playcount',\n",
       "       'video_description', 'video_is_ad', 'video_stickers', 'author_username',\n",
       "       'author_name', 'author_followercount', 'author_followingcount',\n",
       "       'author_heartcount', 'author_videocount', 'author_diggcount',\n",
       "       'author_verified', 'search_term', 'year', 'File Name', 'Content',\n",
       "       'Subjectivity/Objectivity'],\n",
       "      dtype='object')"
      ]
     },
     "execution_count": 8,
     "metadata": {},
     "output_type": "execute_result"
    }
   ],
   "source": [
    "all_dfs[0].columns"
   ]
  },
  {
   "cell_type": "code",
   "execution_count": 9,
   "id": "2ec2eec5-1ed0-4575-835e-2e80d570eee9",
   "metadata": {},
   "outputs": [],
   "source": [
    "#concatenate all\n",
    "allDocs = pd.concat(all_dfs)"
   ]
  },
  {
   "cell_type": "code",
   "execution_count": 10,
   "id": "b11bbaa8-8c4a-40d9-9875-7349ea86abc5",
   "metadata": {},
   "outputs": [
    {
     "data": {
      "text/plain": [
       "(17062, 31)"
      ]
     },
     "execution_count": 10,
     "metadata": {},
     "output_type": "execute_result"
    }
   ],
   "source": [
    "allDocs.shape"
   ]
  },
  {
   "cell_type": "code",
   "execution_count": 11,
   "id": "798dab44-d3ba-439d-9ed7-0454c65843b6",
   "metadata": {},
   "outputs": [],
   "source": [
    "allDocs.set_index('video_id', inplace=True)"
   ]
  },
  {
   "cell_type": "markdown",
   "id": "5fa4e934-56c4-473e-9266-68465e76c0d5",
   "metadata": {},
   "source": [
    "## Calculating Metrics"
   ]
  },
  {
   "cell_type": "code",
   "execution_count": null,
   "id": "b4460f93-8661-4e2b-a67f-8ed8e5e3239c",
   "metadata": {},
   "outputs": [],
   "source": [
    "# finding average length of the transcripts\n",
    "# video duration\n",
    "# suggested words? "
   ]
  }
 ],
 "metadata": {
  "kernelspec": {
   "display_name": "Python 3 (ipykernel)",
   "language": "python",
   "name": "python3"
  },
  "language_info": {
   "codemirror_mode": {
    "name": "ipython",
    "version": 3
   },
   "file_extension": ".py",
   "mimetype": "text/x-python",
   "name": "python",
   "nbconvert_exporter": "python",
   "pygments_lexer": "ipython3",
   "version": "3.9.18"
  }
 },
 "nbformat": 4,
 "nbformat_minor": 5
}
