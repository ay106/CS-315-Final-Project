{
 "cells": [
  {
   "cell_type": "markdown",
   "id": "91f8feab-05ae-4483-8590-88bc7c593a29",
   "metadata": {},
   "source": [
    "## Exploratory Analysis of Transcripts"
   ]
  },
  {
   "cell_type": "markdown",
   "id": "89ea31e0-bd9c-4498-aa05-42178378bccb",
   "metadata": {},
   "source": [
    "<b> Author:</b> Miraya Gupta \\\n",
    "<b> Date: </b> 04/05"
   ]
  },
  {
   "cell_type": "code",
   "execution_count": 5,
   "id": "a9a7c6c7-80c9-4240-aa22-63cbe8321514",
   "metadata": {},
   "outputs": [],
   "source": [
    "import pandas as pd\n",
    "import csv\n",
    "import json\n",
    "import numpy as np\n",
    "import os\n",
    "#from sklearn.feature_extraction.text import CountVectorizer"
   ]
  },
  {
   "cell_type": "markdown",
   "id": "02e16f2a-fc6b-43e2-aae5-095e7c81ff44",
   "metadata": {},
   "source": [
    "# Load Data"
   ]
  },
  {
   "cell_type": "code",
   "execution_count": 6,
   "id": "54dfcf9e-a16e-42d8-bb49-78b746b97f69",
   "metadata": {},
   "outputs": [],
   "source": [
    "def get_df_for_year(year):\n",
    "    '''\n",
    "    Take in the year and return a df with data from that year\n",
    "    '''\n",
    "    directory = 'data'\n",
    "    filename = f'final_result_{year}.csv'\n",
    "    path = os.path.join(directory, filename)\n",
    "    df = pd.read_csv(path)\n",
    "    return df"
   ]
  },
  {
   "cell_type": "code",
   "execution_count": 7,
   "id": "9516df72-19e8-4f32-b341-6a35ad03a743",
   "metadata": {},
   "outputs": [],
   "source": [
    "#calling function to get csv for each year\n",
    "all_dfs = []\n",
    "for yr in ['2020', '2021', '2022', '2023', '2024']:\n",
    "    df = get_df_for_year(yr)\n",
    "    all_dfs.append(df)"
   ]
  },
  {
   "cell_type": "code",
   "execution_count": 8,
   "id": "e87e0382-0c54-4c74-98ac-a54e4dbcab3c",
   "metadata": {},
   "outputs": [
    {
     "data": {
      "text/plain": [
       "Index(['Unnamed: 0', 'video_id', 'video_timestamp', 'video_duration',\n",
       "       'video_locationcreated', 'suggested_words', 'video_diggcount',\n",
       "       'video_sharecount', 'video_commentcount', 'video_playcount',\n",
       "       'video_description', 'video_is_ad', 'video_stickers', 'author_username',\n",
       "       'author_name', 'author_followercount', 'author_followingcount',\n",
       "       'author_heartcount', 'author_videocount', 'author_diggcount',\n",
       "       'author_verified', 'search_term', 'year', 'File Name', 'Content',\n",
       "       'Subjectivity/Objectivity'],\n",
       "      dtype='object')"
      ]
     },
     "execution_count": 8,
     "metadata": {},
     "output_type": "execute_result"
    }
   ],
   "source": [
    "all_dfs[0].columns"
   ]
  },
  {
   "cell_type": "code",
   "execution_count": 9,
   "id": "2ec2eec5-1ed0-4575-835e-2e80d570eee9",
   "metadata": {},
   "outputs": [],
   "source": [
    "#concatenate all\n",
    "allDocs = pd.concat(all_dfs)"
   ]
  },
  {
   "cell_type": "code",
   "execution_count": 16,
   "id": "9952f845-8ce6-4446-86f6-4495b5f7fa99",
   "metadata": {},
   "outputs": [],
   "source": [
    "allDocs.dropna(subset=['Content'], inplace=True)"
   ]
  },
  {
   "cell_type": "code",
   "execution_count": 17,
   "id": "b11bbaa8-8c4a-40d9-9875-7349ea86abc5",
   "metadata": {},
   "outputs": [
    {
     "data": {
      "text/plain": [
       "(11167, 30)"
      ]
     },
     "execution_count": 17,
     "metadata": {},
     "output_type": "execute_result"
    }
   ],
   "source": [
    "allDocs.shape"
   ]
  },
  {
   "cell_type": "code",
   "execution_count": 19,
   "id": "798dab44-d3ba-439d-9ed7-0454c65843b6",
   "metadata": {},
   "outputs": [
    {
     "ename": "KeyError",
     "evalue": "\"None of ['video_id'] are in the columns\"",
     "output_type": "error",
     "traceback": [
      "\u001b[0;31m---------------------------------------------------------------------------\u001b[0m",
      "\u001b[0;31mKeyError\u001b[0m                                  Traceback (most recent call last)",
      "\u001b[0;32m/var/folders/s4/l0gcsjqs6nddgzrcdh2gfp480000gn/T/ipykernel_51819/1690863770.py\u001b[0m in \u001b[0;36m?\u001b[0;34m()\u001b[0m\n\u001b[0;32m----> 1\u001b[0;31m \u001b[0mallDocs\u001b[0m\u001b[0;34m.\u001b[0m\u001b[0mset_index\u001b[0m\u001b[0;34m(\u001b[0m\u001b[0;34m'video_id'\u001b[0m\u001b[0;34m,\u001b[0m \u001b[0minplace\u001b[0m\u001b[0;34m=\u001b[0m\u001b[0;32mTrue\u001b[0m\u001b[0;34m)\u001b[0m\u001b[0;34m\u001b[0m\u001b[0;34m\u001b[0m\u001b[0m\n\u001b[0m",
      "\u001b[0;32m~/miniconda3/lib/python3.9/site-packages/pandas/core/frame.py\u001b[0m in \u001b[0;36m?\u001b[0;34m(self, keys, drop, append, inplace, verify_integrity)\u001b[0m\n\u001b[1;32m   6105\u001b[0m                     \u001b[0;32mif\u001b[0m \u001b[0;32mnot\u001b[0m \u001b[0mfound\u001b[0m\u001b[0;34m:\u001b[0m\u001b[0;34m\u001b[0m\u001b[0;34m\u001b[0m\u001b[0m\n\u001b[1;32m   6106\u001b[0m                         \u001b[0mmissing\u001b[0m\u001b[0;34m.\u001b[0m\u001b[0mappend\u001b[0m\u001b[0;34m(\u001b[0m\u001b[0mcol\u001b[0m\u001b[0;34m)\u001b[0m\u001b[0;34m\u001b[0m\u001b[0;34m\u001b[0m\u001b[0m\n\u001b[1;32m   6107\u001b[0m \u001b[0;34m\u001b[0m\u001b[0m\n\u001b[1;32m   6108\u001b[0m         \u001b[0;32mif\u001b[0m \u001b[0mmissing\u001b[0m\u001b[0;34m:\u001b[0m\u001b[0;34m\u001b[0m\u001b[0;34m\u001b[0m\u001b[0m\n\u001b[0;32m-> 6109\u001b[0;31m             \u001b[0;32mraise\u001b[0m \u001b[0mKeyError\u001b[0m\u001b[0;34m(\u001b[0m\u001b[0;34mf\"None of {missing} are in the columns\"\u001b[0m\u001b[0;34m)\u001b[0m\u001b[0;34m\u001b[0m\u001b[0;34m\u001b[0m\u001b[0m\n\u001b[0m\u001b[1;32m   6110\u001b[0m \u001b[0;34m\u001b[0m\u001b[0m\n\u001b[1;32m   6111\u001b[0m         \u001b[0;32mif\u001b[0m \u001b[0minplace\u001b[0m\u001b[0;34m:\u001b[0m\u001b[0;34m\u001b[0m\u001b[0;34m\u001b[0m\u001b[0m\n\u001b[1;32m   6112\u001b[0m             \u001b[0mframe\u001b[0m \u001b[0;34m=\u001b[0m \u001b[0mself\u001b[0m\u001b[0;34m\u001b[0m\u001b[0;34m\u001b[0m\u001b[0m\n",
      "\u001b[0;31mKeyError\u001b[0m: \"None of ['video_id'] are in the columns\""
     ]
    }
   ],
   "source": [
    "allDocs.set_index('video_id', inplace=True)"
   ]
  },
  {
   "cell_type": "markdown",
   "id": "5fa4e934-56c4-473e-9266-68465e76c0d5",
   "metadata": {},
   "source": [
    "## Calculating Metrics"
   ]
  },
  {
   "cell_type": "code",
   "execution_count": 20,
   "id": "b4460f93-8661-4e2b-a67f-8ed8e5e3239c",
   "metadata": {},
   "outputs": [
    {
     "data": {
      "text/plain": [
       "video_id\n",
       "7104707494194269482      26\n",
       "7167954365922151726     432\n",
       "7277689387939417386     913\n",
       "7176634327122365738     325\n",
       "7212690611852578094     722\n",
       "                       ... \n",
       "7239030289022979371    1493\n",
       "7327480752940059950     543\n",
       "7293650230640168238     852\n",
       "7293103212528241966     991\n",
       "7358119678851468586      21\n",
       "Name: Content, Length: 11167, dtype: int64"
      ]
     },
     "execution_count": 20,
     "metadata": {},
     "output_type": "execute_result"
    }
   ],
   "source": [
    "# finding average length of the transcripts\n",
    "# video duration\n",
    "# suggested words? \n",
    "allDocs['Content'].apply(len)"
   ]
  },
  {
   "cell_type": "code",
   "execution_count": 21,
   "id": "37e8fd09-adfe-486c-9153-430b6704864d",
   "metadata": {},
   "outputs": [],
   "source": [
    "def average_length(row):\n",
    "    return sum(len(word) for word in row.split())\n",
    "\n",
    "allDocs['avg_length'] = allDocs['Content'].apply(average_length)"
   ]
  },
  {
   "cell_type": "code",
   "execution_count": 22,
   "id": "aa172e88-0fd9-4253-b69a-a837121073f8",
   "metadata": {
    "scrolled": true
   },
   "outputs": [
    {
     "data": {
      "text/plain": [
       "Index(['Unnamed: 0', 'video_timestamp', 'video_duration',\n",
       "       'video_locationcreated', 'suggested_words', 'video_diggcount',\n",
       "       'video_sharecount', 'video_commentcount', 'video_playcount',\n",
       "       'video_description', 'video_is_ad', 'video_stickers', 'author_username',\n",
       "       'author_name', 'author_followercount', 'author_followingcount',\n",
       "       'author_heartcount', 'author_videocount', 'author_diggcount',\n",
       "       'author_verified', 'search_term', 'year', 'File Name', 'Content',\n",
       "       'Subjectivity/Objectivity', 'transcript_File Name',\n",
       "       'transcript_Content', 'transcript_Unnamed: 0',\n",
       "       'transcript_Subjectivity/Objectivity', 'transcript_video_id',\n",
       "       'avg_length'],\n",
       "      dtype='object')"
      ]
     },
     "execution_count": 22,
     "metadata": {},
     "output_type": "execute_result"
    }
   ],
   "source": [
    "allDocs.columns"
   ]
  },
  {
   "cell_type": "code",
   "execution_count": 23,
   "id": "dc892ee3-8271-48a4-92dc-793ce74a911e",
   "metadata": {},
   "outputs": [
    {
     "data": {
      "text/plain": [
       "901.5038954061073"
      ]
     },
     "execution_count": 23,
     "metadata": {},
     "output_type": "execute_result"
    }
   ],
   "source": [
    "allDocs['avg_length'].mean()"
   ]
  },
  {
   "cell_type": "code",
   "execution_count": 29,
   "id": "5ea31695-1398-40bf-8976-8cdc234d424a",
   "metadata": {},
   "outputs": [
    {
     "data": {
      "text/plain": [
       "1"
      ]
     },
     "execution_count": 29,
     "metadata": {},
     "output_type": "execute_result"
    }
   ],
   "source": [
    "allDocs['avg_length'].min()"
   ]
  },
  {
   "cell_type": "code",
   "execution_count": 28,
   "id": "32a78063-14e3-46b0-9baf-d0d534e37dc6",
   "metadata": {},
   "outputs": [
    {
     "data": {
      "text/plain": [
       "11272"
      ]
     },
     "execution_count": 28,
     "metadata": {},
     "output_type": "execute_result"
    }
   ],
   "source": [
    "allDocs['avg_length'].max()"
   ]
  },
  {
   "cell_type": "code",
   "execution_count": null,
   "id": "5144d986-aac0-4131-b430-0fa6b52015a7",
   "metadata": {},
   "outputs": [],
   "source": []
  }
 ],
 "metadata": {
  "kernelspec": {
   "display_name": "Python 3 (ipykernel)",
   "language": "python",
   "name": "python3"
  },
  "language_info": {
   "codemirror_mode": {
    "name": "ipython",
    "version": 3
   },
   "file_extension": ".py",
   "mimetype": "text/x-python",
   "name": "python",
   "nbconvert_exporter": "python",
   "pygments_lexer": "ipython3",
   "version": "3.9.18"
  }
 },
 "nbformat": 4,
 "nbformat_minor": 5
}
