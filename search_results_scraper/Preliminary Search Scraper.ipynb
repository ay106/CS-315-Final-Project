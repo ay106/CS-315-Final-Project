{
 "cells": [
  {
   "cell_type": "markdown",
   "id": "45c2a57a-dedd-406a-9cf6-05810b9518e7",
   "metadata": {},
   "source": [
    "<h1>Search Scraper</h1>"
   ]
  },
  {
   "cell_type": "markdown",
   "id": "9f402acb-d1fd-4bb5-bc76-5dffbe2428db",
   "metadata": {},
   "source": [
    "<b>Author: Miraya Gupta\\\n",
    "Date: 15/04</b>"
   ]
  },
  {
   "cell_type": "code",
   "execution_count": 1,
   "id": "438bc1cb-0dcd-4e56-a839-8ff9dc198c34",
   "metadata": {},
   "outputs": [],
   "source": [
    "import requests \n",
    "import selenium\n",
    "#import BeautifulSoup as bs4\n",
    "from seleniumbase import Driver\n",
    "from selenium import webdriver\n",
    "from selenium.webdriver.common.by import By # contains operators for the type of search we want to do\n",
    "import time\n",
    "from seleniumbase import BaseCase\n",
    "#from random import randint\n",
    "#from selenium.common.exceptions import ElementClickInterceptedException, StaleElementReferenceException, NoSuchElementException\n",
    "#from selenium.webdriver.common.action_chains import ActionChains\n",
    "import html\n",
    "#import re\n",
    "import numpy as np\n",
    "import csv\n",
    "from datetime import datetime\n",
    "import os.path\n",
    "from bs4 import BeautifulSoup\n",
    "from selenium.webdriver.common.action_chains import ActionChains\n",
    "from selenium.webdriver.common.keys import Keys\n",
    "import json"
   ]
  },
  {
   "cell_type": "code",
   "execution_count": 2,
   "id": "4aefd86d-cc6a-4396-ab15-4de830f8d3fe",
   "metadata": {},
   "outputs": [],
   "source": [
    "#defining variables for search term and number of results\n",
    "search_term = 'biden'\n",
    "no_of_results = 50"
   ]
  },
  {
   "cell_type": "code",
   "execution_count": 3,
   "id": "a977365a-374f-48c4-8a4e-e2a6bb1c60eb",
   "metadata": {},
   "outputs": [],
   "source": [
    "#using selenium\n",
    "driver = webdriver.Chrome()\n",
    "driver.get(f'https://www.tiktok.com/search/video?q={search_term}&t={no_of_results}')"
   ]
  },
  {
   "cell_type": "code",
   "execution_count": 40,
   "id": "aa27d438-066a-43be-bb83-a204c775ac6a",
   "metadata": {},
   "outputs": [],
   "source": [
    "#find video in search results\n",
    "videos = driver.find_elements(By.XPATH, '//*[@id=\"tabs-0-panel-search_video\"]/div[3]/div')"
   ]
  },
  {
   "cell_type": "code",
   "execution_count": 41,
   "id": "784e83d4-9ad3-4f5f-bb57-54f43d761ed9",
   "metadata": {},
   "outputs": [
    {
     "data": {
      "text/plain": [
       "[<selenium.webdriver.remote.webelement.WebElement (session=\"8deaa601dd40c8f3c0cce6b41d393577\", element=\"f.106EEA89C4E687685C2455C40EA92EFD.d.412811C1469B945FCCD4B552A422A45F.e.74\")>]"
      ]
     },
     "execution_count": 41,
     "metadata": {},
     "output_type": "execute_result"
    }
   ],
   "source": [
    "videos"
   ]
  },
  {
   "cell_type": "code",
   "execution_count": 47,
   "id": "47868c9f-be89-4be9-83f1-49a83c73e25f",
   "metadata": {},
   "outputs": [],
   "source": [
    "vids = driver.find_elements(By.XPATH, \"//div[contains(@class, ' css-1as5cen-DivWrapper e1cg0wnj1')]\")"
   ]
  },
  {
   "cell_type": "code",
   "execution_count": 48,
   "id": "caaec2c9-1062-4cdb-ace0-bbf6025d1390",
   "metadata": {},
   "outputs": [
    {
     "data": {
      "text/plain": [
       "[<selenium.webdriver.remote.webelement.WebElement (session=\"7d88a9a3929b25a0747933e7f364133a\", element=\"f.5B0E2C4D3FB8814F73D8BFD89DD0BEFD.d.4D7BD3F65472163DD7B3AE14E90593B4.e.88\")>,\n",
       " <selenium.webdriver.remote.webelement.WebElement (session=\"7d88a9a3929b25a0747933e7f364133a\", element=\"f.5B0E2C4D3FB8814F73D8BFD89DD0BEFD.d.4D7BD3F65472163DD7B3AE14E90593B4.e.89\")>,\n",
       " <selenium.webdriver.remote.webelement.WebElement (session=\"7d88a9a3929b25a0747933e7f364133a\", element=\"f.5B0E2C4D3FB8814F73D8BFD89DD0BEFD.d.4D7BD3F65472163DD7B3AE14E90593B4.e.90\")>,\n",
       " <selenium.webdriver.remote.webelement.WebElement (session=\"7d88a9a3929b25a0747933e7f364133a\", element=\"f.5B0E2C4D3FB8814F73D8BFD89DD0BEFD.d.4D7BD3F65472163DD7B3AE14E90593B4.e.91\")>,\n",
       " <selenium.webdriver.remote.webelement.WebElement (session=\"7d88a9a3929b25a0747933e7f364133a\", element=\"f.5B0E2C4D3FB8814F73D8BFD89DD0BEFD.d.4D7BD3F65472163DD7B3AE14E90593B4.e.92\")>,\n",
       " <selenium.webdriver.remote.webelement.WebElement (session=\"7d88a9a3929b25a0747933e7f364133a\", element=\"f.5B0E2C4D3FB8814F73D8BFD89DD0BEFD.d.4D7BD3F65472163DD7B3AE14E90593B4.e.93\")>,\n",
       " <selenium.webdriver.remote.webelement.WebElement (session=\"7d88a9a3929b25a0747933e7f364133a\", element=\"f.5B0E2C4D3FB8814F73D8BFD89DD0BEFD.d.4D7BD3F65472163DD7B3AE14E90593B4.e.94\")>,\n",
       " <selenium.webdriver.remote.webelement.WebElement (session=\"7d88a9a3929b25a0747933e7f364133a\", element=\"f.5B0E2C4D3FB8814F73D8BFD89DD0BEFD.d.4D7BD3F65472163DD7B3AE14E90593B4.e.95\")>,\n",
       " <selenium.webdriver.remote.webelement.WebElement (session=\"7d88a9a3929b25a0747933e7f364133a\", element=\"f.5B0E2C4D3FB8814F73D8BFD89DD0BEFD.d.4D7BD3F65472163DD7B3AE14E90593B4.e.96\")>]"
      ]
     },
     "execution_count": 48,
     "metadata": {},
     "output_type": "execute_result"
    }
   ],
   "source": [
    "vids"
   ]
  },
  {
   "cell_type": "code",
   "execution_count": 49,
   "id": "05ad0449-0f34-4eac-8281-4262f9377b32",
   "metadata": {},
   "outputs": [
    {
     "data": {
      "text/plain": [
       "9"
      ]
     },
     "execution_count": 49,
     "metadata": {},
     "output_type": "execute_result"
    }
   ],
   "source": [
    "len(vids)"
   ]
  },
  {
   "cell_type": "code",
   "execution_count": 50,
   "id": "f4d178f8-2410-46c6-988b-19057d4ee1b5",
   "metadata": {},
   "outputs": [
    {
     "name": "stdout",
     "output_type": "stream",
     "text": [
      "https://www.tiktok.com/@cbsnews/video/7297344797268839722\n",
      "https://www.tiktok.com/@worldnewscoverage/video/7357662453427080490\n",
      "https://www.tiktok.com/@ajplus/video/7358196165415914794\n",
      "https://www.tiktok.com/@ajplus/video/7346257319753256223\n",
      "https://www.tiktok.com/@falastineyes/video/7345682801565617454\n",
      "https://www.tiktok.com/@jayrscottyy/video/7330409499196493099\n",
      "https://www.tiktok.com/@ajplus/video/7343644056628628767\n",
      "https://www.tiktok.com/@ajplus/video/7307315441154755871\n",
      "https://www.tiktok.com/@cbsmornings/video/7355879565056642346\n"
     ]
    }
   ],
   "source": [
    "for vid in vids:\n",
    "    print (vid.find_element (By. TAG_NAME, \"a\").get_attribute('href'))"
   ]
  },
  {
   "cell_type": "code",
   "execution_count": 4,
   "id": "0b575a53-c902-4c8a-a7bf-c554e2245340",
   "metadata": {},
   "outputs": [],
   "source": [
    "all_urls = []\n",
    "actions = ActionChains(driver)\n",
    "for i in range(6):\n",
    "    for i in range(30):\n",
    "        actions.send_keys(Keys.ARROW_DOWN)\n",
    "    actions.perform()\n",
    "    time.sleep(2)\n",
    "    videos = driver.find_elements(By.XPATH, \"//div[contains(@class, 'css-1soki6-DivItemContainerForSearch e19c29qe10')]\")\n",
    "    urls = [video.find_element (By. TAG_NAME, \"a\").get_attribute('href') for video in videos]\n",
    "    all_urls.append(urls)"
   ]
  },
  {
   "cell_type": "code",
   "execution_count": 5,
   "id": "f3de0010-d818-4a52-b1e3-cffee4601b19",
   "metadata": {},
   "outputs": [
    {
     "data": {
      "text/plain": [
       "[['https://www.tiktok.com/@c4news/video/7359176295667862816',\n",
       "  'https://www.tiktok.com/@dailywire/video/7359306465137659182',\n",
       "  'https://www.tiktok.com/@msnbc/video/7357908003498069294',\n",
       "  'https://www.tiktok.com/@bidenhq/video/7338581341392424238',\n",
       "  'https://www.tiktok.com/@abcnews/video/7359626669163826474',\n",
       "  'https://www.tiktok.com/@thedemocrats/video/7161523061831781675',\n",
       "  'https://www.tiktok.com/@reprokhanna/video/7359267264643747118',\n",
       "  'https://www.tiktok.com/@savagetrump2024/video/7359388085647346987',\n",
       "  'https://www.tiktok.com/@thedemocrats/video/7359609617015606574',\n",
       "  'https://www.tiktok.com/@middleeasteye/video/7332826916568730913',\n",
       "  'https://www.tiktok.com/@catchupnews/video/7359598854314134830',\n",
       "  'https://www.tiktok.com/@ryanjosephnetwork1/video/7359562432441879854',\n",
       "  'https://www.tiktok.com/@harry.daniels/video/7354471424477777195',\n",
       "  'https://www.tiktok.com/@kully52zone/video/7272717794112736544',\n",
       "  'https://www.tiktok.com/@charpmedia/video/7359634939827997994',\n",
       "  'https://www.tiktok.com/@bidenhq/video/7359392652695145774',\n",
       "  'https://www.tiktok.com/@dimplesandsmiles4life/video/7359568056470801707',\n",
       "  'https://www.tiktok.com/@tomontana2/video/7358623619062287659',\n",
       "  'https://www.tiktok.com/@libsmemecentral/video/7359386383028423982',\n",
       "  'https://www.tiktok.com/@bidenhq/video/7359573003815980331',\n",
       "  'https://www.tiktok.com/@underthedesknews/video/7359691582209248558',\n",
       "  'https://www.tiktok.com/@dontdrinkthemilk/video/7233616870551686446',\n",
       "  'https://www.tiktok.com/@olemurica/video/7253592008319601962'],\n",
       " ['https://www.tiktok.com/@c4news/video/7359176295667862816',\n",
       "  'https://www.tiktok.com/@dailywire/video/7359306465137659182',\n",
       "  'https://www.tiktok.com/@msnbc/video/7357908003498069294',\n",
       "  'https://www.tiktok.com/@bidenhq/video/7338581341392424238',\n",
       "  'https://www.tiktok.com/@abcnews/video/7359626669163826474',\n",
       "  'https://www.tiktok.com/@thedemocrats/video/7161523061831781675',\n",
       "  'https://www.tiktok.com/@reprokhanna/video/7359267264643747118',\n",
       "  'https://www.tiktok.com/@savagetrump2024/video/7359388085647346987',\n",
       "  'https://www.tiktok.com/@thedemocrats/video/7359609617015606574',\n",
       "  'https://www.tiktok.com/@middleeasteye/video/7332826916568730913',\n",
       "  'https://www.tiktok.com/@catchupnews/video/7359598854314134830',\n",
       "  'https://www.tiktok.com/@ryanjosephnetwork1/video/7359562432441879854',\n",
       "  'https://www.tiktok.com/@harry.daniels/video/7354471424477777195',\n",
       "  'https://www.tiktok.com/@kully52zone/video/7272717794112736544',\n",
       "  'https://www.tiktok.com/@charpmedia/video/7359634939827997994',\n",
       "  'https://www.tiktok.com/@bidenhq/video/7359392652695145774',\n",
       "  'https://www.tiktok.com/@dimplesandsmiles4life/video/7359568056470801707',\n",
       "  'https://www.tiktok.com/@tomontana2/video/7358623619062287659',\n",
       "  'https://www.tiktok.com/@libsmemecentral/video/7359386383028423982',\n",
       "  'https://www.tiktok.com/@bidenhq/video/7359573003815980331',\n",
       "  'https://www.tiktok.com/@underthedesknews/video/7359691582209248558',\n",
       "  'https://www.tiktok.com/@dontdrinkthemilk/video/7233616870551686446',\n",
       "  'https://www.tiktok.com/@olemurica/video/7253592008319601962',\n",
       "  'https://www.tiktok.com/@brantsta/video/7289542660153429280',\n",
       "  'https://www.tiktok.com/@jessebwatters/video/7345951524582985003',\n",
       "  'https://www.tiktok.com/@genzforchange/video/7345878932719275294',\n",
       "  'https://www.tiktok.com/@tomtop10s/video/7232357607707626778',\n",
       "  'https://www.tiktok.com/@bidenhq/video/7359357694332964142',\n",
       "  'https://www.tiktok.com/@documentingcreepy/video/7225795836477852934',\n",
       "  'https://www.tiktok.com/@cmkatykat/video/7197608231932382506',\n",
       "  'https://www.tiktok.com/@foxnewsclips2024/video/7325995416372186411',\n",
       "  'https://www.tiktok.com/@michaeldanks42/video/7304498133705198894',\n",
       "  'https://www.tiktok.com/@mrpoliticalclips/video/7285089975949954334',\n",
       "  'https://www.tiktok.com/@adventureous.chickie20/video/7344061880203316522'],\n",
       " ['https://www.tiktok.com/@c4news/video/7359176295667862816',\n",
       "  'https://www.tiktok.com/@dailywire/video/7359306465137659182',\n",
       "  'https://www.tiktok.com/@msnbc/video/7357908003498069294',\n",
       "  'https://www.tiktok.com/@bidenhq/video/7338581341392424238',\n",
       "  'https://www.tiktok.com/@abcnews/video/7359626669163826474',\n",
       "  'https://www.tiktok.com/@thedemocrats/video/7161523061831781675',\n",
       "  'https://www.tiktok.com/@reprokhanna/video/7359267264643747118',\n",
       "  'https://www.tiktok.com/@savagetrump2024/video/7359388085647346987',\n",
       "  'https://www.tiktok.com/@thedemocrats/video/7359609617015606574',\n",
       "  'https://www.tiktok.com/@middleeasteye/video/7332826916568730913',\n",
       "  'https://www.tiktok.com/@catchupnews/video/7359598854314134830',\n",
       "  'https://www.tiktok.com/@ryanjosephnetwork1/video/7359562432441879854',\n",
       "  'https://www.tiktok.com/@harry.daniels/video/7354471424477777195',\n",
       "  'https://www.tiktok.com/@kully52zone/video/7272717794112736544',\n",
       "  'https://www.tiktok.com/@charpmedia/video/7359634939827997994',\n",
       "  'https://www.tiktok.com/@bidenhq/video/7359392652695145774',\n",
       "  'https://www.tiktok.com/@dimplesandsmiles4life/video/7359568056470801707',\n",
       "  'https://www.tiktok.com/@tomontana2/video/7358623619062287659',\n",
       "  'https://www.tiktok.com/@libsmemecentral/video/7359386383028423982',\n",
       "  'https://www.tiktok.com/@bidenhq/video/7359573003815980331',\n",
       "  'https://www.tiktok.com/@underthedesknews/video/7359691582209248558',\n",
       "  'https://www.tiktok.com/@dontdrinkthemilk/video/7233616870551686446',\n",
       "  'https://www.tiktok.com/@olemurica/video/7253592008319601962',\n",
       "  'https://www.tiktok.com/@brantsta/video/7289542660153429280',\n",
       "  'https://www.tiktok.com/@jessebwatters/video/7345951524582985003',\n",
       "  'https://www.tiktok.com/@genzforchange/video/7345878932719275294',\n",
       "  'https://www.tiktok.com/@tomtop10s/video/7232357607707626778',\n",
       "  'https://www.tiktok.com/@bidenhq/video/7359357694332964142',\n",
       "  'https://www.tiktok.com/@documentingcreepy/video/7225795836477852934',\n",
       "  'https://www.tiktok.com/@cmkatykat/video/7197608231932382506',\n",
       "  'https://www.tiktok.com/@foxnewsclips2024/video/7325995416372186411',\n",
       "  'https://www.tiktok.com/@michaeldanks42/video/7304498133705198894',\n",
       "  'https://www.tiktok.com/@mrpoliticalclips/video/7285089975949954334',\n",
       "  'https://www.tiktok.com/@adventureous.chickie20/video/7344061880203316522',\n",
       "  'https://www.tiktok.com/@donald_newshd/video/7311114946522221856',\n",
       "  'https://www.tiktok.com/@noticiastelemundo/video/7343830524001094955',\n",
       "  'https://www.tiktok.com/@universalnato/video/7111622584873094406',\n",
       "  'https://www.tiktok.com/@symonawood958/video/7354492488280771882',\n",
       "  'https://www.tiktok.com/@bloombergoriginals/video/7037658020662217989',\n",
       "  'https://www.tiktok.com/@yahoonews/video/7156315395098529066',\n",
       "  'https://www.tiktok.com/@nbcnews/video/6938572925411052805',\n",
       "  'https://www.tiktok.com/@leonadorosi/video/7234446960328035610',\n",
       "  'https://www.tiktok.com/@keanelimusic/video/7246898527748590894',\n",
       "  'https://www.tiktok.com/@caleb.j.hull/video/7132567937877036334'],\n",
       " ['https://www.tiktok.com/@c4news/video/7359176295667862816',\n",
       "  'https://www.tiktok.com/@dailywire/video/7359306465137659182',\n",
       "  'https://www.tiktok.com/@msnbc/video/7357908003498069294',\n",
       "  'https://www.tiktok.com/@bidenhq/video/7338581341392424238',\n",
       "  'https://www.tiktok.com/@abcnews/video/7359626669163826474',\n",
       "  'https://www.tiktok.com/@thedemocrats/video/7161523061831781675',\n",
       "  'https://www.tiktok.com/@reprokhanna/video/7359267264643747118',\n",
       "  'https://www.tiktok.com/@savagetrump2024/video/7359388085647346987',\n",
       "  'https://www.tiktok.com/@thedemocrats/video/7359609617015606574',\n",
       "  'https://www.tiktok.com/@middleeasteye/video/7332826916568730913',\n",
       "  'https://www.tiktok.com/@catchupnews/video/7359598854314134830',\n",
       "  'https://www.tiktok.com/@ryanjosephnetwork1/video/7359562432441879854',\n",
       "  'https://www.tiktok.com/@harry.daniels/video/7354471424477777195',\n",
       "  'https://www.tiktok.com/@kully52zone/video/7272717794112736544',\n",
       "  'https://www.tiktok.com/@charpmedia/video/7359634939827997994',\n",
       "  'https://www.tiktok.com/@bidenhq/video/7359392652695145774',\n",
       "  'https://www.tiktok.com/@dimplesandsmiles4life/video/7359568056470801707',\n",
       "  'https://www.tiktok.com/@tomontana2/video/7358623619062287659',\n",
       "  'https://www.tiktok.com/@libsmemecentral/video/7359386383028423982',\n",
       "  'https://www.tiktok.com/@bidenhq/video/7359573003815980331',\n",
       "  'https://www.tiktok.com/@underthedesknews/video/7359691582209248558',\n",
       "  'https://www.tiktok.com/@dontdrinkthemilk/video/7233616870551686446',\n",
       "  'https://www.tiktok.com/@olemurica/video/7253592008319601962',\n",
       "  'https://www.tiktok.com/@brantsta/video/7289542660153429280',\n",
       "  'https://www.tiktok.com/@jessebwatters/video/7345951524582985003',\n",
       "  'https://www.tiktok.com/@genzforchange/video/7345878932719275294',\n",
       "  'https://www.tiktok.com/@tomtop10s/video/7232357607707626778',\n",
       "  'https://www.tiktok.com/@bidenhq/video/7359357694332964142',\n",
       "  'https://www.tiktok.com/@documentingcreepy/video/7225795836477852934',\n",
       "  'https://www.tiktok.com/@cmkatykat/video/7197608231932382506',\n",
       "  'https://www.tiktok.com/@foxnewsclips2024/video/7325995416372186411',\n",
       "  'https://www.tiktok.com/@michaeldanks42/video/7304498133705198894',\n",
       "  'https://www.tiktok.com/@mrpoliticalclips/video/7285089975949954334',\n",
       "  'https://www.tiktok.com/@adventureous.chickie20/video/7344061880203316522',\n",
       "  'https://www.tiktok.com/@donald_newshd/video/7311114946522221856',\n",
       "  'https://www.tiktok.com/@noticiastelemundo/video/7343830524001094955',\n",
       "  'https://www.tiktok.com/@universalnato/video/7111622584873094406',\n",
       "  'https://www.tiktok.com/@symonawood958/video/7354492488280771882',\n",
       "  'https://www.tiktok.com/@bloombergoriginals/video/7037658020662217989',\n",
       "  'https://www.tiktok.com/@yahoonews/video/7156315395098529066',\n",
       "  'https://www.tiktok.com/@nbcnews/video/6938572925411052805',\n",
       "  'https://www.tiktok.com/@leonadorosi/video/7234446960328035610',\n",
       "  'https://www.tiktok.com/@keanelimusic/video/7246898527748590894',\n",
       "  'https://www.tiktok.com/@caleb.j.hull/video/7132567937877036334',\n",
       "  'https://www.tiktok.com/@maisami531/video/7292388580146547999',\n",
       "  'https://www.tiktok.com/@actualidadrt/video/7275781671671188742',\n",
       "  'https://www.tiktok.com/@aliensoul_esp/video/7227267033375821062',\n",
       "  'https://www.tiktok.com/@joepags/video/7253560406726167850',\n",
       "  'https://www.tiktok.com/@abbeygrantg/video/7282802977528745258',\n",
       "  'https://www.tiktok.com/@dailymail/video/6995179303361137925',\n",
       "  'https://www.tiktok.com/@thedemocrats/video/7280660174178618670',\n",
       "  'https://www.tiktok.com/@therealrepublican2/video/7117669279603969326',\n",
       "  'https://www.tiktok.com/@povelephant/video/7114415343908490538',\n",
       "  'https://www.tiktok.com/@christopher_payne_1965/video/7313273389035097386',\n",
       "  'https://www.tiktok.com/@patriota_news/video/7291813588119997701',\n",
       "  'https://www.tiktok.com/@blackpegasusraps/video/6948833838776765701'],\n",
       " ['https://www.tiktok.com/@c4news/video/7359176295667862816',\n",
       "  'https://www.tiktok.com/@dailywire/video/7359306465137659182',\n",
       "  'https://www.tiktok.com/@msnbc/video/7357908003498069294',\n",
       "  'https://www.tiktok.com/@bidenhq/video/7338581341392424238',\n",
       "  'https://www.tiktok.com/@abcnews/video/7359626669163826474',\n",
       "  'https://www.tiktok.com/@thedemocrats/video/7161523061831781675',\n",
       "  'https://www.tiktok.com/@reprokhanna/video/7359267264643747118',\n",
       "  'https://www.tiktok.com/@savagetrump2024/video/7359388085647346987',\n",
       "  'https://www.tiktok.com/@thedemocrats/video/7359609617015606574',\n",
       "  'https://www.tiktok.com/@middleeasteye/video/7332826916568730913',\n",
       "  'https://www.tiktok.com/@catchupnews/video/7359598854314134830',\n",
       "  'https://www.tiktok.com/@ryanjosephnetwork1/video/7359562432441879854',\n",
       "  'https://www.tiktok.com/@harry.daniels/video/7354471424477777195',\n",
       "  'https://www.tiktok.com/@kully52zone/video/7272717794112736544',\n",
       "  'https://www.tiktok.com/@charpmedia/video/7359634939827997994',\n",
       "  'https://www.tiktok.com/@bidenhq/video/7359392652695145774',\n",
       "  'https://www.tiktok.com/@dimplesandsmiles4life/video/7359568056470801707',\n",
       "  'https://www.tiktok.com/@tomontana2/video/7358623619062287659',\n",
       "  'https://www.tiktok.com/@libsmemecentral/video/7359386383028423982',\n",
       "  'https://www.tiktok.com/@bidenhq/video/7359573003815980331',\n",
       "  'https://www.tiktok.com/@underthedesknews/video/7359691582209248558',\n",
       "  'https://www.tiktok.com/@dontdrinkthemilk/video/7233616870551686446',\n",
       "  'https://www.tiktok.com/@olemurica/video/7253592008319601962',\n",
       "  'https://www.tiktok.com/@brantsta/video/7289542660153429280',\n",
       "  'https://www.tiktok.com/@jessebwatters/video/7345951524582985003',\n",
       "  'https://www.tiktok.com/@genzforchange/video/7345878932719275294',\n",
       "  'https://www.tiktok.com/@tomtop10s/video/7232357607707626778',\n",
       "  'https://www.tiktok.com/@bidenhq/video/7359357694332964142',\n",
       "  'https://www.tiktok.com/@documentingcreepy/video/7225795836477852934',\n",
       "  'https://www.tiktok.com/@cmkatykat/video/7197608231932382506',\n",
       "  'https://www.tiktok.com/@foxnewsclips2024/video/7325995416372186411',\n",
       "  'https://www.tiktok.com/@michaeldanks42/video/7304498133705198894',\n",
       "  'https://www.tiktok.com/@mrpoliticalclips/video/7285089975949954334',\n",
       "  'https://www.tiktok.com/@adventureous.chickie20/video/7344061880203316522',\n",
       "  'https://www.tiktok.com/@donald_newshd/video/7311114946522221856',\n",
       "  'https://www.tiktok.com/@noticiastelemundo/video/7343830524001094955',\n",
       "  'https://www.tiktok.com/@universalnato/video/7111622584873094406',\n",
       "  'https://www.tiktok.com/@symonawood958/video/7354492488280771882',\n",
       "  'https://www.tiktok.com/@bloombergoriginals/video/7037658020662217989',\n",
       "  'https://www.tiktok.com/@yahoonews/video/7156315395098529066',\n",
       "  'https://www.tiktok.com/@nbcnews/video/6938572925411052805',\n",
       "  'https://www.tiktok.com/@leonadorosi/video/7234446960328035610',\n",
       "  'https://www.tiktok.com/@keanelimusic/video/7246898527748590894',\n",
       "  'https://www.tiktok.com/@caleb.j.hull/video/7132567937877036334',\n",
       "  'https://www.tiktok.com/@maisami531/video/7292388580146547999',\n",
       "  'https://www.tiktok.com/@actualidadrt/video/7275781671671188742',\n",
       "  'https://www.tiktok.com/@aliensoul_esp/video/7227267033375821062',\n",
       "  'https://www.tiktok.com/@joepags/video/7253560406726167850',\n",
       "  'https://www.tiktok.com/@abbeygrantg/video/7282802977528745258',\n",
       "  'https://www.tiktok.com/@dailymail/video/6995179303361137925',\n",
       "  'https://www.tiktok.com/@thedemocrats/video/7280660174178618670',\n",
       "  'https://www.tiktok.com/@therealrepublican2/video/7117669279603969326',\n",
       "  'https://www.tiktok.com/@povelephant/video/7114415343908490538',\n",
       "  'https://www.tiktok.com/@christopher_payne_1965/video/7313273389035097386',\n",
       "  'https://www.tiktok.com/@patriota_news/video/7291813588119997701',\n",
       "  'https://www.tiktok.com/@blackpegasusraps/video/6948833838776765701'],\n",
       " ['https://www.tiktok.com/@c4news/video/7359176295667862816',\n",
       "  'https://www.tiktok.com/@dailywire/video/7359306465137659182',\n",
       "  'https://www.tiktok.com/@msnbc/video/7357908003498069294',\n",
       "  'https://www.tiktok.com/@bidenhq/video/7338581341392424238',\n",
       "  'https://www.tiktok.com/@abcnews/video/7359626669163826474',\n",
       "  'https://www.tiktok.com/@thedemocrats/video/7161523061831781675',\n",
       "  'https://www.tiktok.com/@reprokhanna/video/7359267264643747118',\n",
       "  'https://www.tiktok.com/@savagetrump2024/video/7359388085647346987',\n",
       "  'https://www.tiktok.com/@thedemocrats/video/7359609617015606574',\n",
       "  'https://www.tiktok.com/@middleeasteye/video/7332826916568730913',\n",
       "  'https://www.tiktok.com/@catchupnews/video/7359598854314134830',\n",
       "  'https://www.tiktok.com/@ryanjosephnetwork1/video/7359562432441879854',\n",
       "  'https://www.tiktok.com/@harry.daniels/video/7354471424477777195',\n",
       "  'https://www.tiktok.com/@kully52zone/video/7272717794112736544',\n",
       "  'https://www.tiktok.com/@charpmedia/video/7359634939827997994',\n",
       "  'https://www.tiktok.com/@bidenhq/video/7359392652695145774',\n",
       "  'https://www.tiktok.com/@dimplesandsmiles4life/video/7359568056470801707',\n",
       "  'https://www.tiktok.com/@tomontana2/video/7358623619062287659',\n",
       "  'https://www.tiktok.com/@libsmemecentral/video/7359386383028423982',\n",
       "  'https://www.tiktok.com/@bidenhq/video/7359573003815980331',\n",
       "  'https://www.tiktok.com/@underthedesknews/video/7359691582209248558',\n",
       "  'https://www.tiktok.com/@dontdrinkthemilk/video/7233616870551686446',\n",
       "  'https://www.tiktok.com/@olemurica/video/7253592008319601962',\n",
       "  'https://www.tiktok.com/@brantsta/video/7289542660153429280',\n",
       "  'https://www.tiktok.com/@jessebwatters/video/7345951524582985003',\n",
       "  'https://www.tiktok.com/@genzforchange/video/7345878932719275294',\n",
       "  'https://www.tiktok.com/@tomtop10s/video/7232357607707626778',\n",
       "  'https://www.tiktok.com/@bidenhq/video/7359357694332964142',\n",
       "  'https://www.tiktok.com/@documentingcreepy/video/7225795836477852934',\n",
       "  'https://www.tiktok.com/@cmkatykat/video/7197608231932382506',\n",
       "  'https://www.tiktok.com/@foxnewsclips2024/video/7325995416372186411',\n",
       "  'https://www.tiktok.com/@michaeldanks42/video/7304498133705198894',\n",
       "  'https://www.tiktok.com/@mrpoliticalclips/video/7285089975949954334',\n",
       "  'https://www.tiktok.com/@adventureous.chickie20/video/7344061880203316522',\n",
       "  'https://www.tiktok.com/@donald_newshd/video/7311114946522221856',\n",
       "  'https://www.tiktok.com/@noticiastelemundo/video/7343830524001094955',\n",
       "  'https://www.tiktok.com/@universalnato/video/7111622584873094406',\n",
       "  'https://www.tiktok.com/@symonawood958/video/7354492488280771882',\n",
       "  'https://www.tiktok.com/@bloombergoriginals/video/7037658020662217989',\n",
       "  'https://www.tiktok.com/@yahoonews/video/7156315395098529066',\n",
       "  'https://www.tiktok.com/@nbcnews/video/6938572925411052805',\n",
       "  'https://www.tiktok.com/@leonadorosi/video/7234446960328035610',\n",
       "  'https://www.tiktok.com/@keanelimusic/video/7246898527748590894',\n",
       "  'https://www.tiktok.com/@caleb.j.hull/video/7132567937877036334',\n",
       "  'https://www.tiktok.com/@maisami531/video/7292388580146547999',\n",
       "  'https://www.tiktok.com/@actualidadrt/video/7275781671671188742',\n",
       "  'https://www.tiktok.com/@aliensoul_esp/video/7227267033375821062',\n",
       "  'https://www.tiktok.com/@joepags/video/7253560406726167850',\n",
       "  'https://www.tiktok.com/@abbeygrantg/video/7282802977528745258',\n",
       "  'https://www.tiktok.com/@dailymail/video/6995179303361137925',\n",
       "  'https://www.tiktok.com/@thedemocrats/video/7280660174178618670',\n",
       "  'https://www.tiktok.com/@therealrepublican2/video/7117669279603969326',\n",
       "  'https://www.tiktok.com/@povelephant/video/7114415343908490538',\n",
       "  'https://www.tiktok.com/@christopher_payne_1965/video/7313273389035097386',\n",
       "  'https://www.tiktok.com/@patriota_news/video/7291813588119997701',\n",
       "  'https://www.tiktok.com/@blackpegasusraps/video/6948833838776765701',\n",
       "  'https://www.tiktok.com/@daphenedorvil/video/7265139082647407878',\n",
       "  'https://www.tiktok.com/@dykj9ud6zkdf/video/7346523822704594182',\n",
       "  'https://www.tiktok.com/@daphenedorvil/video/7264057754069781765',\n",
       "  'https://www.tiktok.com/@azhar.karim/video/7186782394945506606',\n",
       "  'https://www.tiktok.com/@jessebwatters/video/7245677570379746603',\n",
       "  'https://www.tiktok.com/@cbseveningnews/video/7135968932111846699',\n",
       "  'https://www.tiktok.com/@donaldtrumppage/video/7344655219474631978',\n",
       "  'https://www.tiktok.com/@mrpoliticalclips/video/7250223680653888810',\n",
       "  'https://www.tiktok.com/@msnbc/video/7333425548347149610',\n",
       "  'https://www.tiktok.com/@ohhosay_2/video/7248663479832300843',\n",
       "  'https://www.tiktok.com/@tropical_memes/video/7269926506091007275']]"
      ]
     },
     "execution_count": 5,
     "metadata": {},
     "output_type": "execute_result"
    }
   ],
   "source": [
    "all_urls"
   ]
  },
  {
   "cell_type": "code",
   "execution_count": 88,
   "id": "8a40bbdc-c74f-45d1-b966-3c8f1ee64290",
   "metadata": {},
   "outputs": [
    {
     "name": "stdout",
     "output_type": "stream",
     "text": [
      "12\n",
      "24\n",
      "34\n",
      "45\n",
      "57\n",
      "57\n"
     ]
    }
   ],
   "source": [
    "for lst in all_urls:\n",
    "    print(len(lst))"
   ]
  },
  {
   "cell_type": "code",
   "execution_count": 89,
   "id": "3d47d9c3-44f1-44bb-95cd-54b9d54681a2",
   "metadata": {},
   "outputs": [],
   "source": [
    "#json with search term and then a list of links. "
   ]
  },
  {
   "cell_type": "code",
   "execution_count": 90,
   "id": "4a8c0a80-1c22-4d98-ab6c-59164e6a1144",
   "metadata": {},
   "outputs": [
    {
     "data": {
      "text/plain": [
       "['https://www.tiktok.com/@msnbc/video/7357908003498069294',\n",
       " 'https://www.tiktok.com/@cbseveningnews/video/7358244423030902059',\n",
       " 'https://www.tiktok.com/@noticiastelemundo/video/7358510269523332395',\n",
       " 'https://www.tiktok.com/@thedemocrats/video/7161523061831781675',\n",
       " 'https://www.tiktok.com/@sunnyparadise321/video/7358474868431637803',\n",
       " 'https://www.tiktok.com/@kully52zone/video/7272717794112736544',\n",
       " 'https://www.tiktok.com/@sunnyparadise321/video/7358523419257834795',\n",
       " 'https://www.tiktok.com/@msnbc/video/7333425548347149610',\n",
       " 'https://www.tiktok.com/@kentucky_girll_/video/7358522998585871659',\n",
       " 'https://www.tiktok.com/@brentnatzle/video/7341154659047918890',\n",
       " 'https://www.tiktok.com/@documentingcreepy/video/7225795836477852934',\n",
       " 'https://www.tiktok.com/@patriot4america45/video/7293705154728119595',\n",
       " 'https://www.tiktok.com/@lionsnotsheep2022/video/7291305688867835179',\n",
       " 'https://www.tiktok.com/@republicanreadscomments/video/7358479465686584606',\n",
       " 'https://www.tiktok.com/@cbsmornings/video/7358436469893025070',\n",
       " 'https://www.tiktok.com/@cubaactu/video/7358531213813943594',\n",
       " 'https://www.tiktok.com/@cbsnews/video/7291394435681094958',\n",
       " 'https://www.tiktok.com/@foxnewsclips2024/video/7325995416372186411',\n",
       " 'https://www.tiktok.com/@wowwhunterbiden/video/7119959819024403718',\n",
       " 'https://www.tiktok.com/@sleepwithhorror/video/7270860666095947041',\n",
       " 'https://www.tiktok.com/@unboundedcuts/video/7269841181981412640',\n",
       " 'https://www.tiktok.com/@dailywire/video/7164476875895688494',\n",
       " 'https://www.tiktok.com/@thetrumpshow/video/7324590876343143722',\n",
       " 'https://www.tiktok.com/@mrpoliticalclips/video/7285089975949954334',\n",
       " 'https://www.tiktok.com/@tomtop10s/video/7232357607707626778',\n",
       " 'https://www.tiktok.com/@truthwar/video/7358227273222311198',\n",
       " 'https://www.tiktok.com/@brutamerica/video/7078654808848289070',\n",
       " 'https://www.tiktok.com/@yahoonews/video/7156315395098529066',\n",
       " 'https://www.tiktok.com/@cbseveningnews/video/7135968932111846699',\n",
       " 'https://www.tiktok.com/@rathbonemakesmusic/video/7358156167845285166',\n",
       " 'https://www.tiktok.com/@todayshow/video/7322902613496696107',\n",
       " 'https://www.tiktok.com/@donaldtrumppage/video/7344655219474631978',\n",
       " 'https://www.tiktok.com/@caleb.j.hull/video/7132567937877036334',\n",
       " 'https://www.tiktok.com/@interesting_new1/video/7223779479095921966',\n",
       " 'https://www.tiktok.com/@maisami531/video/7292388580146547999',\n",
       " 'https://www.tiktok.com/@realprogressive1/video/7358477905590111531',\n",
       " 'https://www.tiktok.com/@tiktok.funny_content/video/7088710738218454277',\n",
       " 'https://www.tiktok.com/@keanelimusic/video/7246898527748590894',\n",
       " 'https://www.tiktok.com/@teamtrump_45_2/video/7220747333875567918',\n",
       " 'https://www.tiktok.com/@foxnewsclips2024/video/7327451765484391723',\n",
       " 'https://www.tiktok.com/@realprogressive1/video/7358130421483277611',\n",
       " 'https://www.tiktok.com/@garyowens727/video/7202930009735023918',\n",
       " 'https://www.tiktok.com/@joepags/video/7253560406726167850',\n",
       " 'https://www.tiktok.com/@symonawood958/video/7354492488280771882',\n",
       " 'https://www.tiktok.com/@bangdeoby/video/7247736690888936706',\n",
       " 'https://www.tiktok.com/@aliensoul_esp/video/7227267033375821062',\n",
       " 'https://www.tiktok.com/@thedemocrats/video/7280660174178618670',\n",
       " 'https://www.tiktok.com/@hunter_biden4/video/6922058103600975109',\n",
       " 'https://www.tiktok.com/@therealrepublican2/video/7117669279603969326',\n",
       " 'https://www.tiktok.com/@povelephant/video/7114415343908490538',\n",
       " 'https://www.tiktok.com/@toyotarav4productions/video/7184835407803059502',\n",
       " 'https://www.tiktok.com/@urmomsahoeyeeet/video/7206865112307666222',\n",
       " 'https://www.tiktok.com/@chocolate_eye228/video/6947827650329201921',\n",
       " 'https://www.tiktok.com/@girls.of.course/video/6893161392669592834',\n",
       " 'https://www.tiktok.com/@patriota_news/video/7291813588119997701',\n",
       " 'https://www.tiktok.com/@yyyzzzcx/video/7100058375752322330',\n",
       " 'https://www.tiktok.com/@akilalhalmi/video/7228600126439181611']"
      ]
     },
     "execution_count": 90,
     "metadata": {},
     "output_type": "execute_result"
    }
   ],
   "source": [
    "unique_list = []\n",
    "[unique_list.append(url) for lst in all_urls for url in lst if url not in unique_list]\n",
    "unique_list"
   ]
  },
  {
   "cell_type": "code",
   "execution_count": 91,
   "id": "30cbab84-bbb5-46aa-ba51-14af0e6e05a1",
   "metadata": {},
   "outputs": [
    {
     "data": {
      "text/plain": [
       "57"
      ]
     },
     "execution_count": 91,
     "metadata": {},
     "output_type": "execute_result"
    }
   ],
   "source": [
    "len(unique_list)"
   ]
  },
  {
   "cell_type": "code",
   "execution_count": null,
   "id": "2cdb404c-44ef-468e-957b-ae12e1bc5ab8",
   "metadata": {},
   "outputs": [],
   "source": [
    "#getting about 50-60 unique video search results per search term by scrolling 6 times. can bring this down to 50 top search results. About 10 new videos per scroll. "
   ]
  },
  {
   "cell_type": "markdown",
   "id": "b1f4a1c9-3b23-49d1-bf4d-fe075771f3ca",
   "metadata": {},
   "source": [
    "<h1>Defining Functions</h1>"
   ]
  },
  {
   "cell_type": "code",
   "execution_count": 7,
   "id": "daecb065-cd1d-4caa-843b-11195e430b81",
   "metadata": {},
   "outputs": [],
   "source": [
    "#start with driver instance so we don't have to login multiple times. \n",
    "driver = webdriver.Chrome()\n",
    "driver.get(f'https://www.tiktok.com')\n",
    "actions = ActionChains(driver)"
   ]
  },
  {
   "cell_type": "code",
   "execution_count": 23,
   "id": "4d94b6af-c86b-4add-bb0e-90a0555e3722",
   "metadata": {},
   "outputs": [],
   "source": [
    "def get_50_urls(search_term, no_of_results=10):\n",
    "    #open link using driver\n",
    "    driver.get(f'https://www.tiktok.com/search/video?q={search_term}&t={no_of_results}')\n",
    "    #time.sleep(20)\n",
    "    #perform scrolling and collect urls\n",
    "    all_urls = []\n",
    "    for i in range(6):\n",
    "        for i in range(30):\n",
    "            actions.send_keys(Keys.ARROW_DOWN)\n",
    "        actions.perform()\n",
    "        time.sleep(0.75)\n",
    "        videos = driver.find_elements(By.XPATH, \"//div[contains(@class, 'css-1soki6-DivItemContainerForSearch e19c29qe10')]\")\n",
    "        [all_urls.append(video.find_element (By. TAG_NAME, \"a\").get_attribute('href')) for video in videos if video not in all_urls]\n",
    "\n",
    "    #return search term and list of urls as a tuple\n",
    "    return search_term, all_urls[:50]"
   ]
  },
  {
   "cell_type": "code",
   "execution_count": 9,
   "id": "e89079db-87e2-455a-9cef-4b02dc43502f",
   "metadata": {},
   "outputs": [
    {
     "data": {
      "text/plain": [
       "('elections',\n",
       " ['https://www.tiktok.com/@newsweek/video/7358096291097922859',\n",
       "  'https://www.tiktok.com/@nowthisimpact/video/7348197098854108458',\n",
       "  'https://www.tiktok.com/@thedownballot.org/video/7358179542017527082',\n",
       "  'https://www.tiktok.com/@varietymagazine/video/7357533495515729195',\n",
       "  'https://www.tiktok.com/@ed_in_burgh/video/7358458105149050155',\n",
       "  'https://www.tiktok.com/@newsweek/video/7358472446103588138',\n",
       "  'https://www.tiktok.com/@thenewsmovement/video/7331110583741304110',\n",
       "  'https://www.tiktok.com/@thenewsmovement/video/7358211680645598510',\n",
       "  'https://www.tiktok.com/@fl_deplorable1/video/7358467592429784363',\n",
       "  'https://www.tiktok.com/@cnn/video/7341090392063905054',\n",
       "  'https://www.tiktok.com/@mrsbobaafettt/video/7358258340528622894',\n",
       "  'https://www.tiktok.com/@newsweek/video/7358096291097922859',\n",
       "  'https://www.tiktok.com/@nowthisimpact/video/7348197098854108458',\n",
       "  'https://www.tiktok.com/@thedownballot.org/video/7358179542017527082',\n",
       "  'https://www.tiktok.com/@varietymagazine/video/7357533495515729195',\n",
       "  'https://www.tiktok.com/@ed_in_burgh/video/7358458105149050155',\n",
       "  'https://www.tiktok.com/@newsweek/video/7358472446103588138',\n",
       "  'https://www.tiktok.com/@thenewsmovement/video/7331110583741304110',\n",
       "  'https://www.tiktok.com/@thenewsmovement/video/7358211680645598510',\n",
       "  'https://www.tiktok.com/@fl_deplorable1/video/7358467592429784363',\n",
       "  'https://www.tiktok.com/@cnn/video/7341090392063905054',\n",
       "  'https://www.tiktok.com/@mrsbobaafettt/video/7358258340528622894',\n",
       "  'https://www.tiktok.com/@jucee314faafotribe/video/7356721593273421102',\n",
       "  'https://www.tiktok.com/@crutches_and_spice/video/7308064737734987039',\n",
       "  'https://www.tiktok.com/@realprogressive1/video/7358555078397087022',\n",
       "  'https://www.tiktok.com/@hal_for_ny__/video/7358569771257957674',\n",
       "  'https://www.tiktok.com/@270towin24/video/7289124253989915946',\n",
       "  'https://www.tiktok.com/@daniel.pufta/video/7224202156440685851',\n",
       "  'https://www.tiktok.com/@cardinalandpine/video/7322237186319879466',\n",
       "  'https://www.tiktok.com/@3reecrossingradio/video/7358150659667021099',\n",
       "  'https://www.tiktok.com/@zekedarwinscience/video/7158926441399291182',\n",
       "  'https://www.tiktok.com/@monkeedc00chi3/video/7319919719241272618',\n",
       "  'https://www.tiktok.com/@imspicyfruitcup/video/6890616215622995205',\n",
       "  'https://www.tiktok.com/@newsweek/video/7358096291097922859',\n",
       "  'https://www.tiktok.com/@nowthisimpact/video/7348197098854108458',\n",
       "  'https://www.tiktok.com/@thedownballot.org/video/7358179542017527082',\n",
       "  'https://www.tiktok.com/@varietymagazine/video/7357533495515729195',\n",
       "  'https://www.tiktok.com/@ed_in_burgh/video/7358458105149050155',\n",
       "  'https://www.tiktok.com/@newsweek/video/7358472446103588138',\n",
       "  'https://www.tiktok.com/@thenewsmovement/video/7331110583741304110',\n",
       "  'https://www.tiktok.com/@thenewsmovement/video/7358211680645598510',\n",
       "  'https://www.tiktok.com/@fl_deplorable1/video/7358467592429784363',\n",
       "  'https://www.tiktok.com/@cnn/video/7341090392063905054',\n",
       "  'https://www.tiktok.com/@mrsbobaafettt/video/7358258340528622894',\n",
       "  'https://www.tiktok.com/@jucee314faafotribe/video/7356721593273421102',\n",
       "  'https://www.tiktok.com/@crutches_and_spice/video/7308064737734987039',\n",
       "  'https://www.tiktok.com/@realprogressive1/video/7358555078397087022',\n",
       "  'https://www.tiktok.com/@hal_for_ny__/video/7358569771257957674',\n",
       "  'https://www.tiktok.com/@270towin24/video/7289124253989915946',\n",
       "  'https://www.tiktok.com/@daniel.pufta/video/7224202156440685851',\n",
       "  'https://www.tiktok.com/@cardinalandpine/video/7322237186319879466'])"
      ]
     },
     "execution_count": 9,
     "metadata": {},
     "output_type": "execute_result"
    }
   ],
   "source": [
    "get_50_urls('elections', no_of_results=10)"
   ]
  },
  {
   "cell_type": "code",
   "execution_count": 10,
   "id": "1fdb47b0-d5e3-414e-908f-3b68f6aeed5e",
   "metadata": {},
   "outputs": [
    {
     "data": {
      "text/plain": [
       "('biden',\n",
       " ['https://www.tiktok.com/@msnbc/video/7357908003498069294',\n",
       "  'https://www.tiktok.com/@noticiastelemundo/video/7358510269523332395',\n",
       "  'https://www.tiktok.com/@cbseveningnews/video/7358244423030902059',\n",
       "  'https://www.tiktok.com/@msnbc/video/7358551710383508779',\n",
       "  'https://www.tiktok.com/@bidenhq/video/7338581341392424238',\n",
       "  'https://www.tiktok.com/@thedemocrats/video/7161523061831781675',\n",
       "  'https://www.tiktok.com/@thesun/video/7239806055360793882',\n",
       "  'https://www.tiktok.com/@yahoonews/video/7358542664037453102',\n",
       "  'https://www.tiktok.com/@middleeasteye/video/7332826916568730913',\n",
       "  'https://www.tiktok.com/@sunnyparadise321/video/7358523419257834795',\n",
       "  'https://www.tiktok.com/@cbseveningnews/video/7358519303458524459',\n",
       "  'https://www.tiktok.com/@kully52zone/video/7272717794112736544',\n",
       "  'https://www.tiktok.com/@msnbc/video/7357908003498069294',\n",
       "  'https://www.tiktok.com/@noticiastelemundo/video/7358510269523332395',\n",
       "  'https://www.tiktok.com/@cbseveningnews/video/7358244423030902059',\n",
       "  'https://www.tiktok.com/@msnbc/video/7358551710383508779',\n",
       "  'https://www.tiktok.com/@bidenhq/video/7338581341392424238',\n",
       "  'https://www.tiktok.com/@thedemocrats/video/7161523061831781675',\n",
       "  'https://www.tiktok.com/@thesun/video/7239806055360793882',\n",
       "  'https://www.tiktok.com/@yahoonews/video/7358542664037453102',\n",
       "  'https://www.tiktok.com/@middleeasteye/video/7332826916568730913',\n",
       "  'https://www.tiktok.com/@sunnyparadise321/video/7358523419257834795',\n",
       "  'https://www.tiktok.com/@cbseveningnews/video/7358519303458524459',\n",
       "  'https://www.tiktok.com/@kully52zone/video/7272717794112736544',\n",
       "  'https://www.tiktok.com/@msnbc/video/7357908003498069294',\n",
       "  'https://www.tiktok.com/@noticiastelemundo/video/7358510269523332395',\n",
       "  'https://www.tiktok.com/@cbseveningnews/video/7358244423030902059',\n",
       "  'https://www.tiktok.com/@msnbc/video/7358551710383508779',\n",
       "  'https://www.tiktok.com/@bidenhq/video/7338581341392424238',\n",
       "  'https://www.tiktok.com/@thedemocrats/video/7161523061831781675',\n",
       "  'https://www.tiktok.com/@thesun/video/7239806055360793882',\n",
       "  'https://www.tiktok.com/@yahoonews/video/7358542664037453102',\n",
       "  'https://www.tiktok.com/@middleeasteye/video/7332826916568730913',\n",
       "  'https://www.tiktok.com/@sunnyparadise321/video/7358523419257834795',\n",
       "  'https://www.tiktok.com/@cbseveningnews/video/7358519303458524459',\n",
       "  'https://www.tiktok.com/@kully52zone/video/7272717794112736544',\n",
       "  'https://www.tiktok.com/@msnbc/video/7357908003498069294',\n",
       "  'https://www.tiktok.com/@noticiastelemundo/video/7358510269523332395',\n",
       "  'https://www.tiktok.com/@cbseveningnews/video/7358244423030902059',\n",
       "  'https://www.tiktok.com/@msnbc/video/7358551710383508779',\n",
       "  'https://www.tiktok.com/@bidenhq/video/7338581341392424238',\n",
       "  'https://www.tiktok.com/@thedemocrats/video/7161523061831781675',\n",
       "  'https://www.tiktok.com/@thesun/video/7239806055360793882',\n",
       "  'https://www.tiktok.com/@yahoonews/video/7358542664037453102',\n",
       "  'https://www.tiktok.com/@middleeasteye/video/7332826916568730913',\n",
       "  'https://www.tiktok.com/@sunnyparadise321/video/7358523419257834795',\n",
       "  'https://www.tiktok.com/@cbseveningnews/video/7358519303458524459',\n",
       "  'https://www.tiktok.com/@kully52zone/video/7272717794112736544'])"
      ]
     },
     "execution_count": 10,
     "metadata": {},
     "output_type": "execute_result"
    }
   ],
   "source": [
    "get_50_urls('biden', no_of_results=10)"
   ]
  },
  {
   "cell_type": "code",
   "execution_count": 24,
   "id": "47666b1a-a59f-40a1-83d4-44d248dbdc50",
   "metadata": {},
   "outputs": [],
   "source": [
    "#function to take a list of keywords and run TikTok search on all of them. Outputs a json file of the search terms as \n",
    "# keys and the list of 50 urls as values. \n",
    "def run_all_search_terms(search_terms_list):\n",
    "    result_dict = {}\n",
    "    for search_term in search_terms_list:\n",
    "        data = get_50_urls(search_term, no_of_results=10)\n",
    "        keyword = data[0]\n",
    "        urls = data[1]\n",
    "        result_dict[keyword] = urls\n",
    "    with open('results.json', 'w') as f:\n",
    "        json.dump(result_dict, f)     "
   ]
  },
  {
   "cell_type": "code",
   "execution_count": 25,
   "id": "74ddbbfd-dcb0-415c-9bd7-4099554bcd0e",
   "metadata": {},
   "outputs": [
    {
     "name": "stdout",
     "output_type": "stream",
     "text": [
      "Execution time: 12.394882202148438 seconds\n"
     ]
    }
   ],
   "source": [
    "#testing\n",
    "start_time = time.time()\n",
    "run_all_search_terms(['gaza', 'palestine'])\n",
    "end_time = time.time()\n",
    "execution_time = end_time - start_time\n",
    "print(\"Execution time:\", execution_time, \"seconds\")\n",
    "#takes about 5 seconds for each search term to run and collect 50 urls. "
   ]
  }
 ],
 "metadata": {
  "kernelspec": {
   "display_name": "Python 3 (ipykernel)",
   "language": "python",
   "name": "python3"
  },
  "language_info": {
   "codemirror_mode": {
    "name": "ipython",
    "version": 3
   },
   "file_extension": ".py",
   "mimetype": "text/x-python",
   "name": "python",
   "nbconvert_exporter": "python",
   "pygments_lexer": "ipython3",
   "version": "3.9.18"
  }
 },
 "nbformat": 4,
 "nbformat_minor": 5
}
