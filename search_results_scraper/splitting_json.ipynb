{
 "cells": [
  {
   "cell_type": "code",
   "execution_count": 2,
   "metadata": {},
   "outputs": [],
   "source": [
    "#Splitting Json files\n",
    "import os\n",
    "import json "
   ]
  },
  {
   "cell_type": "code",
   "execution_count": null,
   "metadata": {},
   "outputs": [],
   "source": [
    "#read all json files in file path \n",
    "#for each file take keys and split in half"
   ]
  },
  {
   "cell_type": "code",
   "execution_count": 4,
   "metadata": {},
   "outputs": [],
   "source": [
    "\n",
    "def split_keys(json_data):\n",
    "    keys = list(json_data.keys())\n",
    "    mid_point = len(keys) // 2\n",
    "    return keys[:mid_point], keys[mid_point:]\n",
    "\n",
    "# Specify your directory path\n",
    "dir_path = r\"C:\\Users\\ashle\\OneDrive\\School\\CS315_Final\\CS-315-Final-Project-main\\CS-315-Final-Project-main\\search_results_scraper\\results\"\n",
    "\n",
    "\n",
    "\n",
    "# Loop through all files in the directory\n",
    "for file_name in os.listdir(dir_path):\n",
    "    if file_name.endswith('.json'):\n",
    "        file_path = os.path.join(dir_path, file_name)\n",
    "        with open(file_path, 'r') as file:\n",
    "            json_data = json.load(file)\n",
    "            first_half, second_half = split_keys(json_data)\n",
    "            fileName1 = f'{file_name}_1.json'\n",
    "            fileName2 = f'{file_name}_2.json'\n",
    "\n",
    "            new_dict1 = {}\n",
    "            new_dict2 = {}\n",
    "            for key in first_half:\n",
    "                new_dict1[key] = json_data[key]\n",
    "            for key in second_half:\n",
    "                new_dict2[key] = json_data[key]\n",
    "                with open(fileName1,\"w\") as file1:\n",
    "                    json.dump(new_dict1,file1)\n",
    "                with open(fileName2,\"w\") as file1:\n",
    "                    json.dump(new_dict2,file1)\n"
   ]
  },
  {
   "cell_type": "code",
   "execution_count": 15,
   "metadata": {},
   "outputs": [
    {
     "data": {
      "text/plain": [
       "30"
      ]
     },
     "execution_count": 15,
     "metadata": {},
     "output_type": "execute_result"
    }
   ],
   "source": [
    "with open (\"urls2020.json_1.json\", \"r\") as file:\n",
    "    json_file1 = json.load(file)\n",
    "\n",
    "list1 = list(json_file1.keys())\n",
    "len(list1)"
   ]
  },
  {
   "cell_type": "code",
   "execution_count": 16,
   "metadata": {},
   "outputs": [
    {
     "data": {
      "text/plain": [
       "30"
      ]
     },
     "execution_count": 16,
     "metadata": {},
     "output_type": "execute_result"
    }
   ],
   "source": [
    "with open (\"urls2020.json_2.json\", \"r\") as file2:\n",
    "    json_file2 = json.load(file2)\n",
    "\n",
    "list2 = list(json_file2.keys())\n",
    "len(list2)"
   ]
  },
  {
   "cell_type": "code",
   "execution_count": 14,
   "metadata": {},
   "outputs": [
    {
     "name": "stdout",
     "output_type": "stream",
     "text": [
      "set()\n"
     ]
    }
   ],
   "source": [
    "print(set(list1).intersection(list2))"
   ]
  }
 ],
 "metadata": {
  "kernelspec": {
   "display_name": "base",
   "language": "python",
   "name": "python3"
  },
  "language_info": {
   "codemirror_mode": {
    "name": "ipython",
    "version": 3
   },
   "file_extension": ".py",
   "mimetype": "text/x-python",
   "name": "python",
   "nbconvert_exporter": "python",
   "pygments_lexer": "ipython3",
   "version": "3.11.7"
  }
 },
 "nbformat": 4,
 "nbformat_minor": 2
}
