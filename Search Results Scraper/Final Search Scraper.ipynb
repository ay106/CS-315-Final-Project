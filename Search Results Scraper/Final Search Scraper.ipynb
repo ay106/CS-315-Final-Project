{
 "cells": [
  {
   "cell_type": "markdown",
   "id": "a8b3064e-9fd7-4aa2-9013-77a2d8e89c6f",
   "metadata": {},
   "source": [
    "## Final Search Scraper"
   ]
  },
  {
   "cell_type": "markdown",
   "id": "146b8883-eea9-4f7c-9e03-65e16025a6e7",
   "metadata": {},
   "source": [
    "Author: Miraya Gupta\\\n",
    "Date: 17/04"
   ]
  },
  {
   "cell_type": "code",
   "execution_count": null,
   "id": "a9ad55ad-4230-4ab6-a369-e866b6947c5a",
   "metadata": {},
   "outputs": [],
   "source": [
    "import requests \n",
    "import selenium\n",
    "from seleniumbase import Driver\n",
    "from selenium import webdriver\n",
    "from selenium.webdriver.common.by import By # contains operators for the type of search we want to do\n",
    "import time\n",
    "from seleniumbase import BaseCase\n",
    "from random import randint\n",
    "#from selenium.common.exceptions import ElementClickInterceptedException, StaleElementReferenceException, NoSuchElementException\n",
    "import html\n",
    "#import re\n",
    "import numpy as np\n",
    "from datetime import datetime\n",
    "import os.path\n",
    "from bs4 import BeautifulSoup\n",
    "from selenium.webdriver.common.action_chains import ActionChains\n",
    "from selenium.webdriver.common.keys import Keys\n",
    "import json\n",
    "import csv"
   ]
  },
  {
   "cell_type": "markdown",
   "id": "55ae3731-a0f8-4e6d-807f-66ad81e192e6",
   "metadata": {},
   "source": [
    "## 1. Dividing Search Terms into Chunks"
   ]
  },
  {
   "cell_type": "code",
   "execution_count": 1,
   "id": "7e20680a-a53f-41d0-89b5-b929ec0f0131",
   "metadata": {},
   "outputs": [],
   "source": [
    "#open csv of search terms \n",
    "#read into pandas\n",
    "df = pd.read_csv()"
   ]
  },
  {
   "cell_type": "code",
   "execution_count": null,
   "id": "467773cd-0807-4a63-813d-d0b71a6a7d0e",
   "metadata": {},
   "outputs": [],
   "source": [
    "#create 2 chunks randomly \n",
    "first_half = df.sample(frac = 0.5)\n",
    "second_half = df.drop(first_half.index)"
   ]
  },
  {
   "cell_type": "code",
   "execution_count": null,
   "id": "48ce8402-8f45-4786-9dd6-b8059ab893c6",
   "metadata": {},
   "outputs": [],
   "source": [
    "#create 4 chunks from the 2 chunks\n",
    "first_quarter = first_half.sample(frac = 0.5)\n",
    "second_quarter = first_half.drop(first_quarter.index)\n",
    "\n",
    "third_quarter = second_half.sample(frac = 0.5)\n",
    "fourth_quarter = second_half.drop(third_quarter.index)"
   ]
  },
  {
   "cell_type": "markdown",
   "id": "9dcd66f9-f937-4679-8f46-6abd3bc00df4",
   "metadata": {},
   "source": [
    "## 2. Scraping TikTok Search Results"
   ]
  },
  {
   "cell_type": "code",
   "execution_count": null,
   "id": "0b796d14-cec2-4ed8-ba57-ab04f9546548",
   "metadata": {},
   "outputs": [],
   "source": [
    "#start with driver instance so we don't have to login multiple times. \n",
    "driver = webdriver.Chrome()\n",
    "driver.get(f'https://www.tiktok.com')\n",
    "actions = ActionChains(driver)"
   ]
  },
  {
   "cell_type": "code",
   "execution_count": null,
   "id": "9d694ab7-0576-4611-b2a3-d58e9601c2e6",
   "metadata": {},
   "outputs": [],
   "source": [
    "def get_50_urls(search_term, no_of_results=10):\n",
    "    #open link using driver\n",
    "    driver.get(f'https://www.tiktok.com/search/video?q={search_term}&t={no_of_results}')\n",
    "    #time.sleep(20)\n",
    "    #perform scrolling and collect urls\n",
    "    all_urls = []\n",
    "    for i in range(6):\n",
    "        for i in range(30):\n",
    "            actions.send_keys(Keys.ARROW_DOWN)\n",
    "        actions.perform()\n",
    "        time.sleep(0.75)\n",
    "        videos = driver.find_elements(By.XPATH, \"//div[contains(@class, 'css-1soki6-DivItemContainerForSearch e19c29qe10')]\")\n",
    "        [all_urls.append(video.find_element (By. TAG_NAME, \"a\").get_attribute('href')) for video in videos if video not in all_urls]\n",
    "\n",
    "    #return search term and list of urls as a tuple\n",
    "    return search_term, all_urls[:50]"
   ]
  },
  {
   "cell_type": "code",
   "execution_count": null,
   "id": "94f775b3-4999-4231-a754-1357d3e868be",
   "metadata": {},
   "outputs": [],
   "source": [
    "#function to take a df of keywords and run TikTok search on all of them. Outputs a json file of the search terms as \n",
    "# keys and the list of 50 urls as values. \n",
    "def run_all_search_terms(search_terms_list):\n",
    "    result_dict = {}\n",
    "    for search_term in search_terms_list:\n",
    "        data = get_50_urls(search_term, no_of_results=10)\n",
    "        keyword = data[0]\n",
    "        urls = data[1]\n",
    "        result_dict[keyword] = urls\n",
    "    with open('results.json', 'w') as f:\n",
    "        json.dump(result_dict, f)    "
   ]
  }
 ],
 "metadata": {
  "kernelspec": {
   "display_name": "Python 3 (ipykernel)",
   "language": "python",
   "name": "python3"
  },
  "language_info": {
   "codemirror_mode": {
    "name": "ipython",
    "version": 3
   },
   "file_extension": ".py",
   "mimetype": "text/x-python",
   "name": "python",
   "nbconvert_exporter": "python",
   "pygments_lexer": "ipython3",
   "version": "3.9.18"
  }
 },
 "nbformat": 4,
 "nbformat_minor": 5
}
