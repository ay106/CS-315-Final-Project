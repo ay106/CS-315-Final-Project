{
 "cells": [
  {
   "cell_type": "markdown",
   "id": "a8b3064e-9fd7-4aa2-9013-77a2d8e89c6f",
   "metadata": {},
   "source": [
    "## Final Search Scraper"
   ]
  },
  {
   "cell_type": "markdown",
   "id": "146b8883-eea9-4f7c-9e03-65e16025a6e7",
   "metadata": {},
   "source": [
    "Author: Miraya Gupta\\\n",
    "Date: 17/04"
   ]
  },
  {
   "cell_type": "code",
   "execution_count": null,
   "id": "a9ad55ad-4230-4ab6-a369-e866b6947c5a",
   "metadata": {},
   "outputs": [],
   "source": [
    "import requests \n",
    "import selenium\n",
    "from seleniumbase import Driver\n",
    "from selenium import webdriver\n",
    "from selenium.webdriver.common.by import By # contains operators for the type of search we want to do\n",
    "import time\n",
    "from seleniumbase import BaseCase\n",
    "from random import randint\n",
    "#from selenium.common.exceptions import ElementClickInterceptedException, StaleElementReferenceException, NoSuchElementException\n",
    "import html\n",
    "#import re\n",
    "import numpy as np\n",
    "from datetime import datetime\n",
    "import os.path\n",
    "from bs4 import BeautifulSoup\n",
    "from selenium.webdriver.common.action_chains import ActionChains\n",
    "from selenium.webdriver.common.keys import Keys\n",
    "import json\n",
    "import csv"
   ]
  },
  {
   "cell_type": "markdown",
   "id": "55ae3731-a0f8-4e6d-807f-66ad81e192e6",
   "metadata": {},
   "source": [
    "## 1. Dividing Search Terms into Chunks"
   ]
  },
  {
   "cell_type": "code",
   "execution_count": 1,
   "id": "7e20680a-a53f-41d0-89b5-b929ec0f0131",
   "metadata": {},
   "outputs": [],
   "source": [
    "#open csv of search terms \n",
    "#read into pandas\n",
    "df = pd.read_csv()"
   ]
  },
  {
   "cell_type": "code",
   "execution_count": null,
   "id": "467773cd-0807-4a63-813d-d0b71a6a7d0e",
   "metadata": {},
   "outputs": [],
   "source": [
    "#create 2 chunks randomly \n",
    "part_50 = df.sample(frac = 0.5)\n",
    "rest_part_50 = df.drop(part_50.index)\n",
    "    "
   ]
  }
 ],
 "metadata": {
  "kernelspec": {
   "display_name": "Python 3 (ipykernel)",
   "language": "python",
   "name": "python3"
  },
  "language_info": {
   "codemirror_mode": {
    "name": "ipython",
    "version": 3
   },
   "file_extension": ".py",
   "mimetype": "text/x-python",
   "name": "python",
   "nbconvert_exporter": "python",
   "pygments_lexer": "ipython3",
   "version": "3.9.18"
  }
 },
 "nbformat": 4,
 "nbformat_minor": 5
}
